{
 "cells": [
  {
   "cell_type": "markdown",
   "id": "70258f55",
   "metadata": {},
   "source": [
    "# Data Science Tools and Ecosystem"
   ]
  },
  {
   "cell_type": "markdown",
   "id": "7c70ae76",
   "metadata": {},
   "source": [
    "In this notebook, Data Science Tools and Ecosystem are summarized."
   ]
  },
  {
   "cell_type": "markdown",
   "id": "66334406",
   "metadata": {},
   "source": [
    "Some of the popular languages that Data Scientists use are:\n",
    "1. Python\n",
    "2. R\n",
    "3. SQL"
   ]
  },
  {
   "cell_type": "markdown",
   "id": "ade6bcef",
   "metadata": {},
   "source": [
    "Some of the commonly used libraries used by Data Scientists include:\n",
    "1. ggplot\n",
    "2. paquete dos\n",
    "3. paquete tres"
   ]
  },
  {
   "cell_type": "markdown",
   "id": "0f16bcbd",
   "metadata": {},
   "source": [
    "|Data Science Tools| Cosa 2 | Cosa 3|\n",
    "|------------|-------------|----------|\n",
    "|paquete 1 | paquete 2 | paquete 3|\n",
    "\n"
   ]
  },
  {
   "cell_type": "markdown",
   "id": "014c3d2b",
   "metadata": {},
   "source": [
    "### 3+1=4"
   ]
  },
  {
   "cell_type": "code",
   "execution_count": 3,
   "id": "46a468cd",
   "metadata": {},
   "outputs": [
    {
     "data": {
      "text/plain": [
       "5"
      ]
     },
     "execution_count": 3,
     "metadata": {},
     "output_type": "execute_result"
    }
   ],
   "source": [
    "(2*2)+1"
   ]
  },
  {
   "cell_type": "code",
   "execution_count": 7,
   "id": "53b1ceba",
   "metadata": {},
   "outputs": [
    {
     "name": "stdout",
     "output_type": "stream",
     "text": [
      "3.3333333333333335 h\n"
     ]
    }
   ],
   "source": [
    "hours= 200 / 60 \n",
    "print(hours,\"h\")\n",
    "#se pasa de 200 minutos a horas dividiendo entre 60"
   ]
  },
  {
   "cell_type": "markdown",
   "id": "5c24b418",
   "metadata": {},
   "source": [
    "## Objectives:\n",
    "\n",
    "1. Aprender python\n",
    "2. Aprender RStudio\n",
    "3. Aprender SQL"
   ]
  },
  {
   "cell_type": "markdown",
   "id": "05291d13",
   "metadata": {},
   "source": [
    "## The autor is Travel-Gomariz"
   ]
  },
  {
   "cell_type": "code",
   "execution_count": null,
   "id": "00478f0f",
   "metadata": {},
   "outputs": [],
   "source": []
  }
 ],
 "metadata": {
  "kernelspec": {
   "display_name": "Python 3 (ipykernel)",
   "language": "python",
   "name": "python3"
  },
  "language_info": {
   "codemirror_mode": {
    "name": "ipython",
    "version": 3
   },
   "file_extension": ".py",
   "mimetype": "text/x-python",
   "name": "python",
   "nbconvert_exporter": "python",
   "pygments_lexer": "ipython3",
   "version": "3.10.9"
  }
 },
 "nbformat": 4,
 "nbformat_minor": 5
}
